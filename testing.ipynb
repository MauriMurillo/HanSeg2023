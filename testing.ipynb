{
 "cells": [
  {
   "cell_type": "code",
   "execution_count": 1,
   "metadata": {},
   "outputs": [],
   "source": [
    "import SimpleITK as sitk\n",
    "import numpy as np\n",
    "import matplotlib.pyplot as plt\n",
    "\n",
    "plt.switch_backend(\"TkAgg\")"
   ]
  },
  {
   "cell_type": "code",
   "execution_count": 2,
   "metadata": {},
   "outputs": [],
   "source": [
    "hel = np.zeros((200, 200, 1))\n",
    "hel[0:10, 0:10] = 250  # yellow\n",
    "\n",
    "hel[100:150, 100:150, 0] = 220  # dark yellow 4\n",
    "hel[50:100, 100:150, 0] = 170  # light green 2\n",
    "hel[100:150, 50:100, 0] = 50  # dark blue 3\n",
    "hel[50:100, 50:100, 0] = 120  # dark green 1"
   ]
  },
  {
   "cell_type": "code",
   "execution_count": 9,
   "metadata": {},
   "outputs": [],
   "source": [
    "def showing(img):\n",
    "    plt.imshow(img, cmap=\"grey\")\n",
    "    plt.title(\"hello\")\n",
    "    plt.show()\n",
    "\n",
    "    plt.ioff()\n",
    "    plt.close()"
   ]
  },
  {
   "cell_type": "code",
   "execution_count": 4,
   "metadata": {},
   "outputs": [],
   "source": [
    "showing(hel)"
   ]
  },
  {
   "cell_type": "code",
   "execution_count": 10,
   "metadata": {},
   "outputs": [],
   "source": [
    "LABEL_dict = {\n",
    "    \"background\": 0,\n",
    "    \"section1\": 120,\n",
    "    \"section2\": 170,\n",
    "    \"section3\": 50,\n",
    "    \"section4\": 220,\n",
    "}\n",
    "\n",
    "nnUnetDict = {\n",
    "    \"background\": 250,\n",
    "    \"section1\": 220,\n",
    "    \"section2\": 50,\n",
    "    \"section3\": 170,\n",
    "    \"section4\": 120,\n",
    "}"
   ]
  },
  {
   "cell_type": "code",
   "execution_count": 14,
   "metadata": {},
   "outputs": [
    {
     "name": "stdout",
     "output_type": "stream",
     "text": [
      "(200, 200, 1)\n",
      "float64\n",
      ":befroe\n",
      "[120.]\n",
      "[170.]\n",
      "[50.]\n",
      "[220.]\n",
      "[0.]\n",
      "0\n",
      "120\n",
      "170\n",
      "50\n",
      "220\n",
      "float64\n",
      "after\n",
      "[220.]\n",
      "[50.]\n",
      "[170.]\n",
      "[120.]\n",
      "[250.]\n"
     ]
    }
   ],
   "source": [
    "arr = np.zeros((200, 200, 1))\n",
    "print(arr.shape)\n",
    "print(arr.dtype)\n",
    "arr[100:150, 100:150, 0] = 220  # dark yellow 4\n",
    "arr[50:100, 100:150, 0] = 170  # light green 2\n",
    "arr[100:150, 50:100, 0] = 50  # dark blue 3\n",
    "arr[50:100, 50:100, 0] = 120  # dark green 1\n",
    "\n",
    "\n",
    "print(\":befroe\")\n",
    "print(arr[75, 75])\n",
    "print(arr[75, 125])\n",
    "print(arr[125, 75])\n",
    "print(arr[125, 125])\n",
    "print(arr[190, 190])\n",
    "showing(arr)\n",
    "arr = arr * 100\n",
    "for key, number in LABEL_dict.items():\n",
    "    print(number)\n",
    "    arr[arr == (number * 100)] = nnUnetDict[key]\n",
    "\n",
    "print(arr.dtype)\n",
    "print(\"after\")\n",
    "print(arr[75, 75])\n",
    "print(arr[75, 125])\n",
    "print(arr[125, 75])\n",
    "print(arr[125, 125])\n",
    "print(arr[190, 190])\n",
    "showing(arr)"
   ]
  },
  {
   "cell_type": "code",
   "execution_count": 17,
   "metadata": {},
   "outputs": [],
   "source": [
    "andrew = np.random.rand(1, 3, 100, 100)\n",
    "andrew.dtype = np.float32"
   ]
  },
  {
   "cell_type": "code",
   "execution_count": 18,
   "metadata": {},
   "outputs": [
    {
     "data": {
      "text/plain": [
       "array([[[[ 1.3634325e-14,  1.8677703e+00,  2.8715044e+28, ...,\n",
       "           1.8561095e+00,  1.0500444e+26,  1.8284054e+00],\n",
       "         [-6.0412002e+11,  1.7831889e+00, -2.0636988e+27, ...,\n",
       "           1.8681321e+00, -1.9739054e-17,  1.6842926e+00],\n",
       "         [ 5.2562347e+02,  1.8445245e+00, -9.6645860e-21, ...,\n",
       "           1.8471242e+00, -2.8507150e+05,  1.3127075e+00],\n",
       "         ...,\n",
       "         [ 5.5119618e+25,  1.7816027e+00, -7.8539597e+31, ...,\n",
       "           1.8023413e+00,  1.7608007e-15,  1.5246437e+00],\n",
       "         [ 1.2301753e+27,  1.3873299e+00,  2.3774353e-06, ...,\n",
       "           1.7717092e+00, -1.9720080e+06,  1.0642738e+00],\n",
       "         [-2.1861376e+29,  1.8613771e+00,  1.7818329e-22, ...,\n",
       "           1.5702058e+00, -5.8677676e+16,  1.7799646e+00]],\n",
       "\n",
       "        [[ 3.9384366e-05,  1.8181695e+00, -2.0409791e-01, ...,\n",
       "           1.8574113e+00, -1.7106079e+26,  1.6324425e+00],\n",
       "         [ 3.6138168e+12,  1.7775640e+00, -2.3689839e-35, ...,\n",
       "           1.6430267e+00,  6.8898058e-15,  1.6991222e+00],\n",
       "         [-3.3000849e-36,  1.8128499e+00, -5.2520270e-03, ...,\n",
       "           1.5237962e+00,  2.3914602e+28,  1.8525792e+00],\n",
       "         ...,\n",
       "         [ 1.7977965e+15,  1.8001343e+00,  2.4135166e-33, ...,\n",
       "           1.3206086e+00,  3.2595362e+12,  1.6507242e+00],\n",
       "         [-2.4440690e-34,  1.6802038e+00, -1.2972578e-04, ...,\n",
       "           1.7226713e+00,  5.2519654e+08,  1.6960473e+00],\n",
       "         [-6.5660293e+32,  1.6854993e+00, -7.5024879e+29, ...,\n",
       "           1.6605177e+00, -1.7209595e+32,  1.7623160e+00]],\n",
       "\n",
       "        [[ 1.2724367e-11,  1.7740220e+00,  1.3104156e+04, ...,\n",
       "           1.7585402e+00, -4.8376844e-29,  1.6395667e+00],\n",
       "         [-4.4338680e-36,  1.8676434e+00, -1.2785617e-18, ...,\n",
       "           1.8622235e+00, -1.7064557e+15,  1.6645881e+00],\n",
       "         [ 3.9377084e+26,  1.5316497e+00, -4.2234050e-11, ...,\n",
       "           1.8543084e+00, -2.3283812e+04,  1.4341097e+00],\n",
       "         ...,\n",
       "         [-3.5347254e-03,  1.8348371e+00,  4.0214077e-17, ...,\n",
       "           1.8300139e+00,  6.0257165e+19,  1.8246087e+00],\n",
       "         [-2.1015554e-13,  1.6680541e+00,  3.4655596e+26, ...,\n",
       "           1.7072432e+00, -1.1979005e+14,  1.7500325e+00],\n",
       "         [ 6.3883654e+08,  1.7814171e+00, -2.8946087e+25, ...,\n",
       "           1.8643850e+00, -1.6947072e+04,  1.7896699e+00]]]],\n",
       "      dtype=float32)"
      ]
     },
     "execution_count": 18,
     "metadata": {},
     "output_type": "execute_result"
    }
   ],
   "source": [
    "andrew"
   ]
  },
  {
   "cell_type": "code",
   "execution_count": null,
   "metadata": {},
   "outputs": [],
   "source": []
  }
 ],
 "metadata": {
  "kernelspec": {
   "display_name": "venv",
   "language": "python",
   "name": "python3"
  },
  "language_info": {
   "codemirror_mode": {
    "name": "ipython",
    "version": 3
   },
   "file_extension": ".py",
   "mimetype": "text/x-python",
   "name": "python",
   "nbconvert_exporter": "python",
   "pygments_lexer": "ipython3",
   "version": "3.11.4"
  }
 },
 "nbformat": 4,
 "nbformat_minor": 2
}
